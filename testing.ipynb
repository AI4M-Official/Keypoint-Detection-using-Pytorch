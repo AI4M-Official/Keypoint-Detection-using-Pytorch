{
 "cells": [
  {
   "cell_type": "code",
   "execution_count": 1,
   "metadata": {},
   "outputs": [
    {
     "name": "stderr",
     "output_type": "stream",
     "text": [
      "/home/tanush/.local/lib/python3.10/site-packages/tqdm/auto.py:21: TqdmWarning: IProgress not found. Please update jupyter and ipywidgets. See https://ipywidgets.readthedocs.io/en/stable/user_install.html\n",
      "  from .autonotebook import tqdm as notebook_tqdm\n"
     ]
    }
   ],
   "source": [
    "import os\n",
    "import torch\n",
    "import numpy as np\n",
    "import torchvision\n",
    "from torchvision.models.detection.rpn import AnchorGenerator\n",
    "import cv2\n",
    "import matplotlib.pyplot as plt\n",
    "from torchvision.transforms import functional as F\n",
    "from tqdm import tqdm  # For progress tracking"
   ]
  },
  {
   "cell_type": "markdown",
   "metadata": {},
   "source": [
    "### For Testing on multiple images in a folder"
   ]
  },
  {
   "cell_type": "code",
   "execution_count": 2,
   "metadata": {},
   "outputs": [],
   "source": [
    "# Define paths\n",
    "image_folder = \"./Dataset/test/images\"\n",
    "output_folder = \"output\""
   ]
  },
  {
   "cell_type": "code",
   "execution_count": 3,
   "metadata": {},
   "outputs": [
    {
     "name": "stderr",
     "output_type": "stream",
     "text": [
      "/home/tanush/.local/lib/python3.10/site-packages/torchvision/models/_utils.py:208: UserWarning: The parameter 'pretrained' is deprecated since 0.13 and may be removed in the future, please use 'weights' instead.\n",
      "  warnings.warn(\n",
      "/home/tanush/.local/lib/python3.10/site-packages/torchvision/models/_utils.py:223: UserWarning: Arguments other than a weight enum or `None` for 'weights' are deprecated since 0.13 and may be removed in the future. The current behavior is equivalent to passing `weights=None`.\n",
      "  warnings.warn(msg)\n",
      "/home/tanush/.local/lib/python3.10/site-packages/torchvision/models/_utils.py:208: UserWarning: The parameter 'pretrained_backbone' is deprecated since 0.13 and may be removed in the future, please use 'weights_backbone' instead.\n",
      "  warnings.warn(\n",
      "/home/tanush/.local/lib/python3.10/site-packages/torchvision/models/_utils.py:223: UserWarning: Arguments other than a weight enum or `None` for 'weights_backbone' are deprecated since 0.13 and may be removed in the future. The current behavior is equivalent to passing `weights_backbone=ResNet50_Weights.IMAGENET1K_V1`. You can also use `weights_backbone=ResNet50_Weights.DEFAULT` to get the most up-to-date weights.\n",
      "  warnings.warn(msg)\n"
     ]
    },
    {
     "name": "stdout",
     "output_type": "stream",
     "text": [
      "Model weights loaded successfully!\n"
     ]
    },
    {
     "name": "stderr",
     "output_type": "stream",
     "text": [
      "100%|██████████| 20/20 [00:06<00:00,  3.27it/s]"
     ]
    },
    {
     "name": "stdout",
     "output_type": "stream",
     "text": [
      "Predictions saved to: output\n"
     ]
    },
    {
     "name": "stderr",
     "output_type": "stream",
     "text": [
      "\n"
     ]
    }
   ],
   "source": [
    "def get_model(num_keypoints, weights_path=None):\n",
    "    anchor_generator = AnchorGenerator(\n",
    "        sizes=(32, 64, 128, 256, 512), aspect_ratios=(0.25, 0.5, 0.75, 1.0, 2.0, 3.0, 4.0)\n",
    "    )\n",
    "    model = torchvision.models.detection.keypointrcnn_resnet50_fpn(\n",
    "        pretrained=False,\n",
    "        pretrained_backbone=True,\n",
    "        num_keypoints=num_keypoints,\n",
    "        num_classes=2,  # Background + 1 object class\n",
    "        rpn_anchor_generator=anchor_generator,\n",
    "    )\n",
    "\n",
    "    if weights_path:\n",
    "        model.load_state_dict(torch.load(weights_path))  # Load trained weights\n",
    "        print(\"Model weights loaded successfully!\")\n",
    "    return model\n",
    "\n",
    "# Define the number of keypoints and the path to the saved weights\n",
    "num_keypoints = 8\n",
    "weights_path = \"UBS.pth\"\n",
    "\n",
    "# Load the model\n",
    "device = torch.device(\"cuda\" if torch.cuda.is_available() else \"cpu\")\n",
    "model = get_model(num_keypoints, weights_path).to(device)\n",
    "model.eval()  # Set model to evaluation mode\n",
    "\n",
    "def visualize_best_prediction(image_path, prediction):\n",
    "    # Load the image\n",
    "    image = cv2.imread(image_path)\n",
    "    image = cv2.cvtColor(image, cv2.COLOR_BGR2RGB)\n",
    "\n",
    "    # Extract bounding boxes, keypoints, and scores\n",
    "    boxes = prediction['boxes']\n",
    "    keypoints = prediction['keypoints']\n",
    "    scores = prediction['scores']\n",
    "\n",
    "    # Find the index of the highest confidence score\n",
    "    best_idx = scores.argmax()\n",
    "    best_box = boxes[best_idx].int().tolist()   # Coordinates of the best box\n",
    "    best_keypoints = keypoints[best_idx]       # Keypoints of the best box\n",
    "\n",
    "    # Draw the highest confidence bounding box\n",
    "    cv2.rectangle(image, (best_box[0], best_box[1]), (best_box[2], best_box[3]), color=(0, 255, 0), thickness=2)\n",
    "\n",
    "    # Draw keypoints for the best box\n",
    "    for kp in best_keypoints:\n",
    "        kp_x, kp_y, visibility = map(int, kp)\n",
    "        if visibility > 0:  # Only draw visible keypoints\n",
    "            cv2.circle(image, (kp_x, kp_y), radius=3, color=(255, 0, 0), thickness=-1)\n",
    "\n",
    "    # Display the image\n",
    "    plt.imshow(image)\n",
    "    plt.axis(\"off\")\n",
    "    plt.show()\n",
    "\n",
    "def preprocess_image(image_path):\n",
    "    # Load the image using OpenCV\n",
    "    image = cv2.imread(image_path)\n",
    "\n",
    "    # Convert the image to a tensor\n",
    "    image_tensor = F.to_tensor(image)  # Converts [H, W, C] to [C, H, W] and normalizes to [0, 1]\n",
    "    return image_tensor\n",
    "\n",
    "# Create the output folder if it doesn't exist\n",
    "os.makedirs(output_folder, exist_ok=True)\n",
    "\n",
    "def visualize_and_save(image_path, predictions, output_path):\n",
    "    # Load the image\n",
    "    image = cv2.imread(image_path)\n",
    "    image = cv2.cvtColor(image, cv2.COLOR_BGR2RGB)\n",
    "\n",
    "    # Extract the best prediction (highest confidence score)\n",
    "    boxes = predictions['boxes'].cpu().numpy()\n",
    "    keypoints = predictions['keypoints'].cpu().numpy()\n",
    "    scores = predictions['scores'].cpu().numpy()\n",
    "\n",
    "    if len(scores) > 0:\n",
    "        best_idx = np.argmax(scores)  # Index of the highest confidence score\n",
    "        best_box = boxes[best_idx].astype(int).tolist()\n",
    "        best_keypoints = keypoints[best_idx].astype(int).tolist()\n",
    "\n",
    "        # Draw the best bounding box\n",
    "        cv2.rectangle(image, (best_box[0], best_box[1]), (best_box[2], best_box[3]), color=(0, 255, 0), thickness=2)\n",
    "\n",
    "        # Draw keypoints\n",
    "        for kp in best_keypoints:\n",
    "            kp_x, kp_y, visibility = kp\n",
    "            if visibility > 0:  # Only draw visible keypoints\n",
    "                cv2.circle(image, (kp_x, kp_y), radius=3, color=(255, 0, 0), thickness=-1)\n",
    "\n",
    "        # Save the image with bounding boxes and keypoints\n",
    "        image = cv2.cvtColor(image, cv2.COLOR_RGB2BGR)  # Convert back to BGR for saving with OpenCV\n",
    "        cv2.imwrite(output_path, image)\n",
    "\n",
    "# Process all images in the folder\n",
    "for image_filename in tqdm(os.listdir(image_folder)):\n",
    "    if not image_filename.lower().endswith(('.jpg', '.jpeg', '.png')):\n",
    "        continue  # Skip non-image files\n",
    "\n",
    "    # Load and preprocess the image\n",
    "    image_path = os.path.join(image_folder, image_filename)\n",
    "    image_tensor = preprocess_image(image_path)\n",
    "    image_tensor = image_tensor.to(device)\n",
    "    image_batch = image_tensor.unsqueeze(0)  # Add batch dimension\n",
    "\n",
    "    # Perform prediction\n",
    "    with torch.no_grad():\n",
    "        predictions = model(image_batch)\n",
    "\n",
    "    # Extract the output file path (same as input, but in output folder)\n",
    "    output_image_path = os.path.join(output_folder, image_filename)\n",
    "\n",
    "    # Visualize and save the best prediction\n",
    "    visualize_and_save(image_path, predictions[0], output_image_path)\n",
    "\n",
    "print(f\"Predictions saved to: {output_folder}\")"
   ]
  }
 ],
 "metadata": {
  "kernelspec": {
   "display_name": "Python 3",
   "language": "python",
   "name": "python3"
  },
  "language_info": {
   "codemirror_mode": {
    "name": "ipython",
    "version": 3
   },
   "file_extension": ".py",
   "mimetype": "text/x-python",
   "name": "python",
   "nbconvert_exporter": "python",
   "pygments_lexer": "ipython3",
   "version": "3.10.12"
  }
 },
 "nbformat": 4,
 "nbformat_minor": 2
}
